{
 "cells": [
  {
   "cell_type": "markdown",
   "metadata": {},
   "source": [
    "# Python Classes"
   ]
  },
  {
   "cell_type": "markdown",
   "metadata": {},
   "source": [
    "[Lectures by Corey](https://www.youtube.com/watch?v=BJ-VvGyQxho&t=162s)<br>"
   ]
  },
  {
   "cell_type": "code",
   "execution_count": null,
   "metadata": {},
   "outputs": [],
   "source": [
    "class Character:\n",
    "    def __init__(self, name, initial_health):\n",
    "        self.name = name\n",
    "        self.health = initial_health\n",
    "        self.inventory = []\n",
    "        \n",
    "    def __str__(self):\n",
    "        s  = \"Name: \" + self.name\n",
    "        s += \" Health: \" + str(self.health)\n",
    "        s += \" Inventory: \" + str(self.inventory)\n",
    "        return s\n",
    "    \n",
    "    def grab(self, item):\n",
    "        self.inventory.append(item)\n",
    "        \n",
    "    def get_health(self):\n",
    "        return self.health\n",
    "    \n",
    "def example():\n",
    "    me = Character(\"Bob\", 20)\n",
    "    print str(me)\n",
    "    me.grab(\"pencil\")\n",
    "    me.grab(\"paper\")\n",
    "    print str(me)\n",
    "    print \"Health:\", me.get_health()\n",
    "    \n",
    "example()\n"
   ]
  },
  {
   "cell_type": "markdown",
   "metadata": {},
   "source": [
    "## 101"
   ]
  },
  {
   "cell_type": "markdown",
   "metadata": {},
   "source": [
    "A method is a function associated with class. "
   ]
  },
  {
   "cell_type": "code",
   "execution_count": 1,
   "metadata": {},
   "outputs": [],
   "source": [
    "class Employee:\n",
    "    pass #pass will call the class without error. for time being we will keep this empty."
   ]
  },
  {
   "cell_type": "code",
   "execution_count": 3,
   "metadata": {},
   "outputs": [
    {
     "name": "stdout",
     "output_type": "stream",
     "text": [
      "<__main__.Employee object at 0x000001CC712EB400>\n"
     ]
    }
   ],
   "source": [
    "emp1 = Employee()\n",
    "#here emp1 is an instance of class Employee.\n",
    "print(emp1)"
   ]
  },
  {
   "cell_type": "code",
   "execution_count": 4,
   "metadata": {},
   "outputs": [],
   "source": [
    "'''doing it manually'''\n",
    "#block_one\n",
    "emp1.first = \"chris\"\n",
    "emp1.last  = \"dmello\"\n",
    "emp1.email = \"ss.gmai.com\"\n",
    "emp1.pay   = 60000"
   ]
  },
  {
   "cell_type": "code",
   "execution_count": 5,
   "metadata": {},
   "outputs": [
    {
     "name": "stdout",
     "output_type": "stream",
     "text": [
      "<__main__.Employee object at 0x000001CC712EB400>\n",
      "chris\n"
     ]
    }
   ],
   "source": [
    "print(emp1)\n",
    "print(emp1.first)"
   ]
  },
  {
   "cell_type": "markdown",
   "metadata": {},
   "source": [
    "[Self explanation](https://stackoverflow.com/questions/6019627/python-self-keyword/6019984#6019984)"
   ]
  },
  {
   "cell_type": "code",
   "execution_count": 8,
   "metadata": {},
   "outputs": [],
   "source": [
    "class EmployeeOne:\n",
    "    \n",
    "    def __init__ (self, first, last, pay):\n",
    "        self.first = first\n",
    "        self.last  = last\n",
    "        self.pay   = pay\n",
    "        self.email = first +\".\"+ last + \"@gmail.com\""
   ]
  },
  {
   "cell_type": "markdown",
   "metadata": {},
   "source": [
    "* In the above code block the __init__ method does it simply that is being done in #block_one. \n",
    "* by default the first arguemnt is __self__. "
   ]
  },
  {
   "cell_type": "code",
   "execution_count": 15,
   "metadata": {},
   "outputs": [
    {
     "data": {
      "text/plain": [
       "50000"
      ]
     },
     "execution_count": 15,
     "metadata": {},
     "output_type": "execute_result"
    }
   ],
   "source": [
    "emp_1_1 = EmployeeOne(\"chris\", \"dmello\", 50000)\n",
    "emp_1_1.pay"
   ]
  },
  {
   "cell_type": "markdown",
   "metadata": {},
   "source": [
    "* So what is happening is that __emp_1_1__ is passed as __self__ so when __EmployeeOne__ is called __emp_1_1__ is passed to self, and the rest follows.<br>\n",
    "* $ first $, $ last $, $ pay $ all are attributes of my class __EmployeeOne__<br> "
   ]
  },
  {
   "cell_type": "code",
   "execution_count": 13,
   "metadata": {},
   "outputs": [],
   "source": [
    "class EmployeeOne:\n",
    "    \n",
    "    def __init__ (self, first, last, pay):\n",
    "        self.first = first\n",
    "        self.last  = last\n",
    "        self.pay   = pay\n",
    "        self.email = first +\".\"+ last + \"@gmail.com\"\n",
    "        \n",
    "\n",
    "#what if i wanted full name \n",
    "    def full_name():\n",
    "        '''full_name is a method and not a attribue'''\n",
    "        return (self.first, self.last)"
   ]
  },
  {
   "cell_type": "code",
   "execution_count": 21,
   "metadata": {},
   "outputs": [
    {
     "data": {
      "text/plain": [
       "50000"
      ]
     },
     "metadata": {},
     "output_type": "display_data"
    },
    {
     "data": {
      "text/plain": [
       "<bound method EmployeeOne.full_name of <__main__.EmployeeOne object at 0x000001CC7148AD30>>"
      ]
     },
     "metadata": {},
     "output_type": "display_data"
    }
   ],
   "source": [
    "display(emp_1_1.pay)\n",
    "display(emp_1_1.full_name)"
   ]
  },
  {
   "cell_type": "markdown",
   "metadata": {},
   "source": [
    "In the above we did not pass self to __full_name__, so __full_name__ doesn't know where to full from so it is just a method. When __self__ is added it then attached __full_name__ to __emp_1_1__"
   ]
  },
  {
   "cell_type": "code",
   "execution_count": 32,
   "metadata": {},
   "outputs": [],
   "source": [
    "class EmployeeOne:\n",
    "    \n",
    "    def __init__ (self, first, last, pay):\n",
    "        self.first = first\n",
    "        self.last  = last\n",
    "        self.pay   = pay\n",
    "        self.email = first +\".\"+ last + \"@gmail.com\"\n",
    "        \n",
    "\n",
    "#what if i wanted full name \n",
    "    def full_name(self):\n",
    "        '''full_name is a method and not a attribue'''\n",
    "        return( \"{} {}\" .format(self.first, self.last))"
   ]
  },
  {
   "cell_type": "code",
   "execution_count": 40,
   "metadata": {},
   "outputs": [
    {
     "data": {
      "text/plain": [
       "50000"
      ]
     },
     "metadata": {},
     "output_type": "display_data"
    },
    {
     "data": {
      "text/plain": [
       "'dmello'"
      ]
     },
     "metadata": {},
     "output_type": "display_data"
    },
    {
     "data": {
      "text/plain": [
       "'chris.dmello@gmail.com'"
      ]
     },
     "metadata": {},
     "output_type": "display_data"
    },
    {
     "data": {
      "text/plain": [
       "'chris dmello'"
      ]
     },
     "metadata": {},
     "output_type": "display_data"
    },
    {
     "data": {
      "text/plain": [
       "'chris dmello'"
      ]
     },
     "execution_count": 40,
     "metadata": {},
     "output_type": "execute_result"
    }
   ],
   "source": [
    "emp_1_1 = EmployeeOne(\"chris\", \"dmello\", 50000)\n",
    "display(emp_1_1.pay)\n",
    "display(emp_1_1.last)\n",
    "display(emp_1_1.email)\n",
    "display(emp_1_1.full_name()) #arenthesis here after the method is needed.\n",
    "EmployeeOne.full_name(emp_1_1)"
   ]
  },
  {
   "cell_type": "markdown",
   "metadata": {},
   "source": [
    "* __()__ are important for an $ METHOD $. or else it will point to the location\n",
    "* __emp_1_1__ is an instance.\n",
    "* __EmployeeOne.full_name(emp_1_1)__ - here directly __emp_1_1__ is passed as an argument. Here __emp_1_1__ is passed to the class as $self$."
   ]
  },
  {
   "cell_type": "markdown",
   "metadata": {},
   "source": [
    "## __102__ <br> $$ class variable $$"
   ]
  },
  {
   "cell_type": "code",
   "execution_count": 48,
   "metadata": {},
   "outputs": [],
   "source": [
    "class EmployeeOne:\n",
    "    \n",
    "    def __init__ (self, first, last, pay):\n",
    "        self.first = first\n",
    "        self.last  = last\n",
    "        self.pay   = pay\n",
    "        self.email = first +\".\"+ last + \"@gmail.com\"\n",
    "        \n",
    "\n",
    "#what if i wanted full name \n",
    "    def full_name(self):\n",
    "        '''full_name is a method and not a attribue'''\n",
    "        return( \"{} {}\" .format(self.first, self.last))\n",
    "    \n",
    "#what else does the employer need - example RAISE and how to calcualte it\n",
    "    def apply_raise(self):\n",
    "        self.pay = int(self.pay*1.04)"
   ]
  },
  {
   "cell_type": "code",
   "execution_count": 50,
   "metadata": {
    "scrolled": true
   },
   "outputs": [
    {
     "name": "stdout",
     "output_type": "stream",
     "text": [
      "pay before raise 50000\n",
      "pay after raise 52000\n"
     ]
    }
   ],
   "source": [
    "emp_1_1 = EmployeeOne(\"chris\", \"dmello\", 50000)\n",
    "print(\"pay before raise {}\".format(emp_1_1.pay))\n",
    "emp_1_1.apply_raise()   #applied raise \n",
    "print(\"pay after raise {}\".format(emp_1_1.pay))"
   ]
  },
  {
   "cell_type": "markdown",
   "metadata": {},
   "source": [
    "* Here another method is added to the class called raise amount. \n",
    "* Note that 4% is hard coded here, how can that be changed."
   ]
  },
  {
   "cell_type": "code",
   "execution_count": 51,
   "metadata": {},
   "outputs": [],
   "source": [
    "class EmployeeOne:\n",
    "    \n",
    "    raise_amount = 1.04\n",
    "    #this is a class variable\n",
    "    def __init__ (self, first, last, pay):\n",
    "        self.first = first\n",
    "        self.last  = last\n",
    "        self.pay   = pay\n",
    "        self.email = first +\".\"+ last + \"@gmail.com\"\n",
    "        \n",
    "\n",
    "#what if i wanted full name \n",
    "    def full_name(self):\n",
    "        '''full_name is a method and not a attribue'''\n",
    "        return( \"{} {}\" .format(self.first, self.last))\n",
    "    \n",
    "#what else does the employer need - example RAISE and how to calcualte it\n",
    "    def apply_raise(self,raise_amount):\n",
    "        self.pay = int(self.pay* raise_amount)"
   ]
  },
  {
   "cell_type": "code",
   "execution_count": 52,
   "metadata": {},
   "outputs": [
    {
     "name": "stdout",
     "output_type": "stream",
     "text": [
      "pay before raise 50000\n"
     ]
    },
    {
     "ename": "TypeError",
     "evalue": "apply_raise() missing 1 required positional argument: 'raise_amount'",
     "output_type": "error",
     "traceback": [
      "\u001b[1;31m---------------------------------------------------------------------------\u001b[0m",
      "\u001b[1;31mTypeError\u001b[0m                                 Traceback (most recent call last)",
      "\u001b[1;32m<ipython-input-52-62f109b6f14f>\u001b[0m in \u001b[0;36m<module>\u001b[1;34m()\u001b[0m\n\u001b[0;32m      1\u001b[0m \u001b[0memp_1_1\u001b[0m \u001b[1;33m=\u001b[0m \u001b[0mEmployeeOne\u001b[0m\u001b[1;33m(\u001b[0m\u001b[1;34m\"chris\"\u001b[0m\u001b[1;33m,\u001b[0m \u001b[1;34m\"dmello\"\u001b[0m\u001b[1;33m,\u001b[0m \u001b[1;36m50000\u001b[0m\u001b[1;33m)\u001b[0m\u001b[1;33m\u001b[0m\u001b[0m\n\u001b[0;32m      2\u001b[0m \u001b[0mprint\u001b[0m\u001b[1;33m(\u001b[0m\u001b[1;34m\"pay before raise {}\"\u001b[0m\u001b[1;33m.\u001b[0m\u001b[0mformat\u001b[0m\u001b[1;33m(\u001b[0m\u001b[0memp_1_1\u001b[0m\u001b[1;33m.\u001b[0m\u001b[0mpay\u001b[0m\u001b[1;33m)\u001b[0m\u001b[1;33m)\u001b[0m\u001b[1;33m\u001b[0m\u001b[0m\n\u001b[1;32m----> 3\u001b[1;33m \u001b[0memp_1_1\u001b[0m\u001b[1;33m.\u001b[0m\u001b[0mapply_raise\u001b[0m\u001b[1;33m(\u001b[0m\u001b[1;33m)\u001b[0m   \u001b[1;31m#applied raise\u001b[0m\u001b[1;33m\u001b[0m\u001b[0m\n\u001b[0m\u001b[0;32m      4\u001b[0m \u001b[0mprint\u001b[0m\u001b[1;33m(\u001b[0m\u001b[1;34m\"pay after raise {}\"\u001b[0m\u001b[1;33m.\u001b[0m\u001b[0mformat\u001b[0m\u001b[1;33m(\u001b[0m\u001b[0memp_1_1\u001b[0m\u001b[1;33m.\u001b[0m\u001b[0mpay\u001b[0m\u001b[1;33m)\u001b[0m\u001b[1;33m)\u001b[0m\u001b[1;33m\u001b[0m\u001b[0m\n",
      "\u001b[1;31mTypeError\u001b[0m: apply_raise() missing 1 required positional argument: 'raise_amount'"
     ]
    }
   ],
   "source": [
    "emp_1_1 = EmployeeOne(\"chris\", \"dmello\", 50000)\n",
    "print(\"pay before raise {}\".format(emp_1_1.pay))\n",
    "emp_1_1.apply_raise()   #applied raise \n",
    "print(\"pay after raise {}\".format(emp_1_1.pay))"
   ]
  },
  {
   "cell_type": "code",
   "execution_count": 53,
   "metadata": {},
   "outputs": [],
   "source": [
    "class EmployeeOne:\n",
    "    \n",
    "    raise_amount = 1.04\n",
    "    #this is a class variable\n",
    "    def __init__ (self, first, last, pay):\n",
    "        self.first = first\n",
    "        self.last  = last\n",
    "        self.pay   = pay\n",
    "        self.email = first +\".\"+ last + \"@gmail.com\"\n",
    "        \n",
    "\n",
    "#what if i wanted full name \n",
    "    def full_name(self):\n",
    "        '''full_name is a method and not a attribue'''\n",
    "        return( \"{} {}\" .format(self.first, self.last))\n",
    "    \n",
    "#what else does the employer need - example RAISE and how to calcualte it\n",
    "    def apply_raise(self):\n",
    "        self.pay = int(self.pay* self.raise_amount)"
   ]
  },
  {
   "cell_type": "code",
   "execution_count": 55,
   "metadata": {},
   "outputs": [
    {
     "name": "stdout",
     "output_type": "stream",
     "text": [
      "pay before raise 50000\n",
      "pay after raise 52000\n"
     ]
    }
   ],
   "source": [
    "emp_1_1 = EmployeeOne(\"chris\", \"dmello\", 50000)\n",
    "print(\"pay before raise {}\".format(emp_1_1.pay))\n",
    "emp_1_1.apply_raise()   #applied raise \n",
    "print(\"pay after raise {}\".format(emp_1_1.pay))"
   ]
  },
  {
   "cell_type": "code",
   "execution_count": 70,
   "metadata": {},
   "outputs": [],
   "source": [
    "class EmployeeOne:\n",
    "    '''Hi\n",
    "    Change the docs here @ doc string\n",
    "    '''\n",
    "    \n",
    "    raise_amount = 1.04\n",
    "    #this is a class variable\n",
    "    def __init__ (self, first, last, pay):\n",
    "        self.first = first\n",
    "        self.last  = last\n",
    "        self.pay   = pay\n",
    "        self.email = first +\".\"+ last + \"@gmail.com\"\n",
    "        \n",
    "\n",
    "#what if i wanted full name \n",
    "    def full_name(self):\n",
    "        '''full_name is a method and not a attribue'''\n",
    "        return( \"{} {}\" .format(self.first, self.last))\n",
    "    \n",
    "#what else does the employer need - example RAISE and how to calcualte it\n",
    "    def apply_raise(self):\n",
    "        self.pay = int(self.pay* EmployeeOne.raise_amount)"
   ]
  },
  {
   "cell_type": "code",
   "execution_count": 58,
   "metadata": {
    "scrolled": true
   },
   "outputs": [
    {
     "name": "stdout",
     "output_type": "stream",
     "text": [
      "pay before raise 50000\n",
      "pay after raise 52000\n"
     ]
    }
   ],
   "source": [
    "emp_1_1 = EmployeeOne(\"chris\", \"dmello\", 50000)\n",
    "print(\"pay before raise {}\".format(emp_1_1.pay))\n",
    "emp_1_1.apply_raise()   #applied raise \n",
    "print(\"pay after raise {}\".format(emp_1_1.pay))"
   ]
  },
  {
   "cell_type": "code",
   "execution_count": 65,
   "metadata": {},
   "outputs": [
    {
     "data": {
      "text/plain": [
       "float"
      ]
     },
     "metadata": {},
     "output_type": "display_data"
    },
    {
     "data": {
      "text/plain": [
       "method"
      ]
     },
     "metadata": {},
     "output_type": "display_data"
    },
    {
     "data": {
      "text/plain": [
       "str"
      ]
     },
     "metadata": {},
     "output_type": "display_data"
    }
   ],
   "source": [
    "display(type(emp_1_1.raise_amount))\n",
    "display(type(emp_1_1.full_name))\n",
    "display(type(emp_1_1.first))"
   ]
  },
  {
   "cell_type": "markdown",
   "metadata": {},
   "source": [
    "* Class variables are called by class or self method.\n",
    "* __emp_1_1__ itself doesn't have the attribute __raise_amount__, that is being carried by from the class __EmployeeOne__."
   ]
  },
  {
   "cell_type": "code",
   "execution_count": 71,
   "metadata": {},
   "outputs": [
    {
     "name": "stdout",
     "output_type": "stream",
     "text": [
      "{'first': 'chris', 'last': 'dmello', 'pay': 52000, 'email': 'chris.dmello@gmail.com'}\n"
     ]
    },
    {
     "data": {
      "text/plain": [
       "mappingproxy({'__dict__': <attribute '__dict__' of 'EmployeeOne' objects>,\n",
       "              '__doc__': 'Hi\\n    Change the docs here @ doc string\\n    ',\n",
       "              '__init__': <function __main__.EmployeeOne.__init__>,\n",
       "              '__module__': '__main__',\n",
       "              '__weakref__': <attribute '__weakref__' of 'EmployeeOne' objects>,\n",
       "              'apply_raise': <function __main__.EmployeeOne.apply_raise>,\n",
       "              'full_name': <function __main__.EmployeeOne.full_name>,\n",
       "              'raise_amount': 1.04})"
      ]
     },
     "metadata": {},
     "output_type": "display_data"
    }
   ],
   "source": [
    "print(emp_1_1.__dict__)\n",
    "display(EmployeeOne.__dict__)\n",
    "##name space"
   ]
  },
  {
   "cell_type": "markdown",
   "metadata": {},
   "source": [
    "__So now what if the raise amount needs to be changed . say from 1.4 to 1.5__"
   ]
  },
  {
   "cell_type": "code",
   "execution_count": 72,
   "metadata": {},
   "outputs": [
    {
     "name": "stdout",
     "output_type": "stream",
     "text": [
      "pay before raise 52000\n",
      "pay after raise 78000\n"
     ]
    }
   ],
   "source": [
    "EmployeeOne.raise_amount = 1.5\n",
    "# emp_1_1 = EmployeeOne(\"chris\", \"dmello\", 50000)\n",
    "print(\"pay before raise {}\".format(emp_1_1.pay))\n",
    "emp_1_1.apply_raise()   #applied raise \n",
    "print(\"pay after raise {}\".format(emp_1_1.pay))"
   ]
  },
  {
   "cell_type": "code",
   "execution_count": 74,
   "metadata": {},
   "outputs": [
    {
     "name": "stdout",
     "output_type": "stream",
     "text": [
      "{'first': 'chris', 'last': 'dmello', 'pay': 78000, 'email': 'chris.dmello@gmail.com', 'raise_amount': 1.6}\n",
      "{'first': 'chris', 'last': 'dmello', 'pay': 78000, 'email': 'chris.dmello@gmail.com', 'raise_amount': 1.6}\n"
     ]
    }
   ],
   "source": [
    "print(emp_1_1.__dict__)\n",
    "emp_1_1.raise_amount = 1.6\n",
    "print(emp_1_1.__dict__) #NameSpace"
   ]
  },
  {
   "cell_type": "markdown",
   "metadata": {},
   "source": [
    "__Let's check out something, where we do not need the self statement. __"
   ]
  },
  {
   "cell_type": "markdown",
   "metadata": {},
   "source": [
    "* So how can we calcualte the toal number of employee here?\n",
    "* We can keep count of the # of time __EmployeeOne__ was called. "
   ]
  },
  {
   "cell_type": "code",
   "execution_count": 107,
   "metadata": {},
   "outputs": [],
   "source": [
    "class EmployeeTwo:\n",
    "    '''Hi\n",
    "    Change the docs here @ doc string\n",
    "    '''\n",
    "    \n",
    "    raise_amount = 1.04\n",
    "    no_of_emps   = 0 \n",
    "    #this is a class variable\n",
    "    def __init__ (self, first, last, pay):\n",
    "        self.first = first\n",
    "        self.last  = last\n",
    "        self.pay   = pay\n",
    "        self.email = first +\".\"+ last + \"@gmail.com\"\n",
    "        EmployeeTwo.no_of_emps += 1  #Each time a new instance is created __init__ method is called, so this increases the count. \n",
    "    \n",
    "#what if i wanted full name \n",
    "    def full_name(self):\n",
    "        '''full_name is a method and not a attribue'''\n",
    "        return( \"{} {}\" .format(self.first, self.last))\n",
    "    \n",
    "#what else does the employer need - example RAISE and how to calcualte it\n",
    "    def apply_raise(self):\n",
    "        self.pay = int(self.pay* EmployeeOne.raise_amount)"
   ]
  },
  {
   "cell_type": "code",
   "execution_count": 105,
   "metadata": {},
   "outputs": [
    {
     "name": "stdout",
     "output_type": "stream",
     "text": [
      "0\n"
     ]
    }
   ],
   "source": [
    "print(EmployeeTwo.no_of_emps)"
   ]
  },
  {
   "cell_type": "code",
   "execution_count": 106,
   "metadata": {},
   "outputs": [
    {
     "name": "stdout",
     "output_type": "stream",
     "text": [
      "2\n"
     ]
    }
   ],
   "source": [
    "emp1 = EmployeeTwo(\"c\", \"d\", 67)\n",
    "emp2 = EmployeeTwo(\"df\", \"fg\", 68)\n",
    "\n",
    "print(EmployeeTwo.no_of_emps)"
   ]
  },
  {
   "cell_type": "markdown",
   "metadata": {},
   "source": [
    "## 103 $$ ClassMethods StaticMethods $$"
   ]
  },
  {
   "cell_type": "code",
   "execution_count": 23,
   "metadata": {},
   "outputs": [],
   "source": [
    "class EmployeeTwo:\n",
    "    '''Hi\n",
    "    Change the docs here @ doc string\n",
    "    '''\n",
    "    \n",
    "    raise_amount = 1.04\n",
    "    no_of_emps   = 0 \n",
    "    #this is a class variable\n",
    "    def __init__ (self, first, last, pay):\n",
    "        self.first = first\n",
    "        self.last  = last\n",
    "        self.pay   = pay\n",
    "        self.email = first +\".\"+ last + \"@gmail.com\"\n",
    "        EmployeeTwo.no_of_emps += 1  #Each time a new instance is created __init__ method is called, so this increases the count. \n",
    "    \n",
    "#what if i wanted full name \n",
    "    def full_name(self):\n",
    "        '''full_name is a method and not a attribue'''\n",
    "        return( \"{} {}\" .format(self.first, self.last))\n",
    "    \n",
    "#what else does the employer need - example RAISE and how to calcualte it\n",
    "    def apply_raise(self):\n",
    "        self.pay = int(self.pay* EmployeeOne.raise_amount)\n",
    "        \n",
    "#will create a classmethod to raise the amount \n",
    "    @classmethod\n",
    "    def set_raise_amount (cls, amount):\n",
    "        '''amount will the argument to be entered'''\n",
    "        cls.raise_amount = amount"
   ]
  },
  {
   "cell_type": "code",
   "execution_count": 24,
   "metadata": {},
   "outputs": [
    {
     "name": "stdout",
     "output_type": "stream",
     "text": [
      "pay before raise amount 1.04\n",
      "pay after raise amount 1.6\n"
     ]
    }
   ],
   "source": [
    "emp_1_1 = EmployeeTwo(\"chris\", \"dmello\", 50000)\n",
    "\n",
    "\n",
    "print(\"pay before raise amount {}\".format(emp_1_1.raise_amount))\n",
    "\n",
    "# EmployeeTwo.set_raise_amount(1.06)\n",
    "EmployeeTwo.raise_amount = 1.6\n",
    "## the above two are interchangable and can be used to both times. \n",
    "\n",
    "print(\"pay after raise amount {}\".format(emp_1_1.raise_amount))"
   ]
  },
  {
   "cell_type": "markdown",
   "metadata": {},
   "source": [
    "__So now we need to create employee from string - what do we do? we can create a @classmethod__"
   ]
  },
  {
   "cell_type": "code",
   "execution_count": 129,
   "metadata": {
    "scrolled": true
   },
   "outputs": [
    {
     "name": "stdout",
     "output_type": "stream",
     "text": [
      "['john', 'doe', '50000']\n",
      "john\n"
     ]
    },
    {
     "data": {
      "text/plain": [
       "'john'"
      ]
     },
     "execution_count": 129,
     "metadata": {},
     "output_type": "execute_result"
    }
   ],
   "source": [
    "emp_str_1 = \"john-doe-50000\"\n",
    "\n",
    "first, last, pay = emp_str_1.split(\"-\")\n",
    "# print(emp_str_1.split(\"-\"))\n",
    "# print(first)\n",
    "\n",
    "emp3 = EmployeeTwo(first, last, pay)\n",
    "emp3.first"
   ]
  },
  {
   "cell_type": "markdown",
   "metadata": {},
   "source": [
    "This is kinda tidious, so we can do something better "
   ]
  },
  {
   "cell_type": "code",
   "execution_count": 146,
   "metadata": {},
   "outputs": [],
   "source": [
    "class EmployeeTwo:\n",
    "    '''Hi\n",
    "    Change the docs here @ doc string\n",
    "    '''\n",
    "    \n",
    "    raise_amount = 1.04\n",
    "    no_of_emps   = 0 \n",
    "    #this is a class variable\n",
    "    def __init__ (self, first, last, pay):\n",
    "        self.first = first\n",
    "        self.last  = last\n",
    "        self.pay   = pay\n",
    "        self.email = first +\".\"+ last + \"@gmail.com\"\n",
    "        EmployeeTwo.no_of_emps += 1  #Each time a new instance is created __init__ method is called, so this increases the count. \n",
    "    \n",
    "#what if i wanted full name \n",
    "    def full_name(self):\n",
    "        '''full_name is a method and not a attribue'''\n",
    "        return( \"{} {}\" .format(self.first, self.last))\n",
    "    \n",
    "#what else does the employer need - example RAISE and how to calcualte it\n",
    "    def apply_raise(self):\n",
    "        self.pay = int(self.pay* EmployeeOne.raise_amount)\n",
    "        \n",
    "#will create a classmethod to raise the amount \n",
    "    @classmethod\n",
    "    def set_raise_amount (cls, amount):\n",
    "        '''amount will the argument to be entered'''\n",
    "        cls.raise_amount = amount\n",
    "        \n",
    "#will create a method that will take the string\n",
    "    @classmethod\n",
    "    def from_string(cls ,emp_string):\n",
    "        '''\n",
    "        cls is automatically called so, that\n",
    "        '''\n",
    "        first, last, pay = emp_string.split(\"-\")\n",
    "        return EmployeeTwo(first, last, pay)\n",
    "        #return cls(first, last, pay)\n",
    "        #thats basically the same thing."
   ]
  },
  {
   "cell_type": "code",
   "execution_count": 145,
   "metadata": {},
   "outputs": [
    {
     "name": "stdout",
     "output_type": "stream",
     "text": [
      "john    \n",
      " doe    \n",
      "   50000\n"
     ]
    }
   ],
   "source": [
    "emp_str_1 = \"john-doe-50000\"\n",
    "\n",
    "emp4 = EmployeeTwo.from_string(emp_str_1)\n",
    "\n",
    "print(emp4.first, \"   \\n\",emp4.last, \"   \\n  \", emp4.pay)"
   ]
  },
  {
   "cell_type": "markdown",
   "metadata": {},
   "source": [
    "[Constructors](https://stackoverflow.com/questions/682504/what-is-a-clean-pythonic-way-to-have-multiple-constructors-in-python) <br>\n",
    "what is classmethods as constructors"
   ]
  },
  {
   "cell_type": "markdown",
   "metadata": {},
   "source": [
    "__Static Method__"
   ]
  },
  {
   "cell_type": "code",
   "execution_count": 25,
   "metadata": {},
   "outputs": [],
   "source": [
    "class EmployeeTwo:\n",
    "    '''Hi\n",
    "    Change the docs here @ doc string\n",
    "    '''\n",
    "    \n",
    "    raise_amount = 1.64\n",
    "    no_of_emps   = 0 \n",
    "    #this is a class variable\n",
    "    def __init__ (self, first, last, pay):\n",
    "        self.first = first\n",
    "        self.last  = last\n",
    "        self.pay   = pay\n",
    "        self.email = first +\".\"+ last + \"@gmail.com\"\n",
    "        EmployeeTwo.no_of_emps += 1  #Each time a new instance is created __init__ method is called, so this increases the count. \n",
    "    \n",
    "#what if i wanted full name \n",
    "    def full_name(self):\n",
    "        '''full_name is a method and not a attribue'''\n",
    "        return( \"{} {}\" .format(self.first, self.last))\n",
    "    \n",
    "#what else does the employer need - example RAISE and how to calcualte it\n",
    "    def apply_raise(self):\n",
    "        self.pay = int(self.pay* EmployeeOne.raise_amount)\n",
    "        \n",
    "#will create a classmethod to raise the amount \n",
    "    @classmethod\n",
    "    def set_raise_amount (cls, amount):\n",
    "        '''amount will the argument to be entered'''\n",
    "        cls.raise_amount = amount\n",
    "        \n",
    "#will create a method that will take the string\n",
    "    @classmethod\n",
    "    def from_string(cls ,emp_string):\n",
    "        '''\n",
    "        cls is automatically called so, that\n",
    "        '''\n",
    "        first, last, pay = emp_string.split(\"-\")\n",
    "        return EmployeeTwo(first, last, pay)\n",
    "        #return cls(first, last, pay)\n",
    "        #thats basically the same thing.\n",
    "        \n",
    "#Now will create a static method.\n",
    "#StaticMethod wil not call the instance or class \n",
    "#in class methd cls was called during retun\n",
    "    @staticmethod\n",
    "    def is_workday(day):\n",
    "        if day.weekday() >4 :\n",
    "            return False\n",
    "        return True\n",
    "    "
   ]
  },
  {
   "cell_type": "code",
   "execution_count": 148,
   "metadata": {},
   "outputs": [
    {
     "data": {
      "text/plain": [
       "True"
      ]
     },
     "execution_count": 148,
     "metadata": {},
     "output_type": "execute_result"
    }
   ],
   "source": [
    "import datetime\n",
    "\n",
    "my_date = datetime.date(2016,7,8)\n",
    "\n",
    "EmployeeTwo.is_workday(my_date)"
   ]
  },
  {
   "cell_type": "markdown",
   "metadata": {},
   "source": [
    "## $$ first class function $$ \n"
   ]
  },
  {
   "cell_type": "markdown",
   "metadata": {},
   "source": [
    "[coreys lecture - first class functions](https://www.youtube.com/watch?v=kr0mpwqttM0)<br>\n",
    "[coreys lecture - decorators](https://www.youtube.com/watch?v=FsAPt_9Bf3U)<br>\n",
    "[coreys lecture - closure](https://www.youtube.com/watch?v=swU3c34d2NQ)<br>\n",
    "[coreys lecture - 004 OOP](https://www.youtube.com/watch?v=RSl87lqOXDE)"
   ]
  },
  {
   "cell_type": "markdown",
   "metadata": {},
   "source": [
    "In computer science, a programming language is said to have __[first-class functions](https://en.wikipedia.org/wiki/First-class_function)__ if it treats functions as first-class citizens. This means the language supports $passing$ $functions$ $as$ $arguments$ $to$ $other$ $functions$, returning them as the values from other functions, and assigning them to variables or storing them in data structures."
   ]
  },
  {
   "cell_type": "markdown",
   "metadata": {},
   "source": [
    "In programming language design, a __[first-class citizen](https://en.wikipedia.org/wiki/First-class_citizen)__ (also type, object, entity, or value) in a given programming language is an entity which supports all the operations generally available to other entities. These operations typically include being passed as an argument, returned from a function, modified, and assigned to a variable. First class function means the function will be treated as any other varibale. "
   ]
  },
  {
   "cell_type": "markdown",
   "metadata": {},
   "source": [
    "( ) - will execute the function"
   ]
  },
  {
   "cell_type": "code",
   "execution_count": 2,
   "metadata": {},
   "outputs": [
    {
     "name": "stdout",
     "output_type": "stream",
     "text": [
      "64\n",
      "<function square at 0x000001FFE6C59D08>\n",
      "<function square at 0x000001FFE6C59D08>\n"
     ]
    }
   ],
   "source": [
    "def square(x):\n",
    "    return x*x\n",
    "ff= square\n",
    "f = square(8)\n",
    "print(f)\n",
    "print(ff)\n",
    "print(square)"
   ]
  },
  {
   "cell_type": "markdown",
   "metadata": {},
   "source": [
    "A function that returns a function as result or takes a function as arguement is called a higher order function. Example __map__ function"
   ]
  },
  {
   "cell_type": "code",
   "execution_count": 4,
   "metadata": {},
   "outputs": [
    {
     "name": "stdout",
     "output_type": "stream",
     "text": [
      "[1, 4, 9]\n"
     ]
    }
   ],
   "source": [
    "def my_map(func, arr):\n",
    "    resilt = []\n",
    "    for i in range(len(arr)):\n",
    "        x = func(arr[i])\n",
    "        resilt.append(x)\n",
    "    return resilt\n",
    "\n",
    "def square(x):\n",
    "    return x*x\n",
    "\n",
    "test = my_map(square, [1,2,3])\n",
    "print(test)"
   ]
  },
  {
   "cell_type": "code",
   "execution_count": 8,
   "metadata": {},
   "outputs": [],
   "source": [
    "def logger (msg):\n",
    "    \n",
    "    def log_message():\n",
    "        print(\"log message is \", msg)\n",
    "        \n",
    "    return log_message\n",
    "\n",
    "log_hi = logger(\"hi\")\n",
    "\n",
    "log_hi()\n",
    "\n",
    "# This is usefull when you have to call a function on a fucntion. "
   ]
  },
  {
   "cell_type": "markdown",
   "metadata": {},
   "source": [
    "## 104 $$ Inheritance - Creating Subclasses $$"
   ]
  },
  {
   "cell_type": "code",
   "execution_count": 10,
   "metadata": {},
   "outputs": [],
   "source": [
    "class EmployeeTwo:\n",
    "    '''Hi\n",
    "    Change the docs here @ doc string\n",
    "    '''\n",
    "    \n",
    "    raise_amount = 1.04\n",
    "    no_of_emps   = 0 \n",
    "    #this is a class variable\n",
    "    def __init__ (self, first, last, pay):\n",
    "        self.first = first\n",
    "        self.last  = last\n",
    "        self.pay   = pay\n",
    "        self.email = first +\".\"+ last + \"@gmail.com\"\n",
    "        EmployeeTwo.no_of_emps += 1  #Each time a new instance is created __init__ method is called, so this increases the count. \n",
    "    \n",
    "#what if i wanted full name \n",
    "    def full_name(self):\n",
    "        ''' \n",
    "        full_name is a method and not a attribue \n",
    "        '''\n",
    "        return( \"{} {}\" .format(self.first, self.last))\n",
    "    \n",
    "#what else does the employer need - example RAISE and how to calcualte it\n",
    "    def apply_raise(self):\n",
    "        self.pay = int(self.pay* EmployeeOne.raise_amount)"
   ]
  },
  {
   "cell_type": "code",
   "execution_count": 11,
   "metadata": {},
   "outputs": [
    {
     "name": "stdout",
     "output_type": "stream",
     "text": [
      "chris.alousius@gmail.com\n",
      "chrisyon.dmello@gmail.com\n"
     ]
    }
   ],
   "source": [
    "dev1 = EmployeeTwo(\"chris\", \"alousius\", \"70000\")\n",
    "dev2 = EmployeeTwo(\"chrisyon\", \"dmello\", \"90000\")\n",
    "\n",
    "print(dev1.email)\n",
    "print(dev2.email)"
   ]
  },
  {
   "cell_type": "code",
   "execution_count": 43,
   "metadata": {
    "scrolled": true
   },
   "outputs": [
    {
     "name": "stdout",
     "output_type": "stream",
     "text": [
      "chris.alousius@gmail.com\n",
      "chrisyon.dmello@gmail.com\n"
     ]
    }
   ],
   "source": [
    "class EmployeeTwo:\n",
    "    '''Hi\n",
    "    Change the docs here @ doc string\n",
    "    '''\n",
    "    \n",
    "    raise_amount = 1.04\n",
    "    no_of_emps   = 0 \n",
    "    #this is a class variable\n",
    "    def __init__ (self, first, last, pay):\n",
    "        self.first = first\n",
    "        self.last  = last\n",
    "        self.pay   = pay\n",
    "        self.email = first +\".\"+ last + \"@gmail.com\"\n",
    "        EmployeeTwo.no_of_emps += 1  #Each time a new instance is created __init__ method is called, so this increases the count. \n",
    "    \n",
    "#what if i wanted full name \n",
    "    def full_name(self):\n",
    "        ''' \n",
    "        full_name is a method and not a attribue \n",
    "        '''\n",
    "        return( \"{} {}\" .format(self.first, self.last))\n",
    "    \n",
    "#what else does the employer need - example RAISE and how to calcualte it\n",
    "    def apply_raise(self):\n",
    "        self.pay =  int(int(self.pay) * self.raise_amount)\n",
    "        \n",
    "\n",
    "class Developer(EmployeeTwo):\n",
    "    pass\n",
    "#Developer class is taking inheritence from EmployeeTwo\n",
    "\n",
    "dev1 = Developer(\"chris\", \"alousius\", 70000)\n",
    "dev2 = Developer(\"chrisyon\", \"dmello\", 90000)\n",
    "#self is the name dev2 or dev1. SELF is the name of the class varible it is assigned to.\n",
    "\n",
    "print(dev1.email)\n",
    "print(dev2.email)\n",
    "\n",
    "#help(Developer)"
   ]
  },
  {
   "cell_type": "code",
   "execution_count": 44,
   "metadata": {},
   "outputs": [
    {
     "name": "stdout",
     "output_type": "stream",
     "text": [
      "70000\n",
      "72800\n"
     ]
    }
   ],
   "source": [
    "print(dev1.pay)\n",
    "dev1.apply_raise()\n",
    "print(dev1.pay)"
   ]
  },
  {
   "cell_type": "markdown",
   "metadata": {},
   "source": [
    "## 105 $$ Special (Magic/Dunder) Methods $$"
   ]
  },
  {
   "cell_type": "code",
   "execution_count": 71,
   "metadata": {},
   "outputs": [],
   "source": [
    "class EmployeeTwo:\n",
    "    '''Hi\n",
    "    Change the docs here @ doc string\n",
    "    '''\n",
    "    \n",
    "    raise_amount = 1.04\n",
    "    no_of_emps   = 0 \n",
    "    #this is a class variable\n",
    "    def __init__ (self, first, last, pay):\n",
    "        self.first = first\n",
    "        self.last  = last\n",
    "        self.pay   = pay\n",
    "        self.email = first +\".\"+ last + \"@gmail.com\"\n",
    "        EmployeeTwo.no_of_emps += 1  #Each time a new instance is created __init__ method is called, so this increases the count. \n",
    "    \n",
    "#what if i wanted full name \n",
    "    def full_name(self):\n",
    "        ''' \n",
    "        full_name is a method and not a attribue \n",
    "        '''\n",
    "        return( \"{} {}\" .format(self.first, self.last))\n",
    "    \n",
    "#what else does the employer need - example RAISE and how to calcualte it\n",
    "    def apply_raise(self):\n",
    "        self.pay =  int(int(self.pay) * self.raise_amount)\n",
    "        \n",
    "    def __repr__(self):\n",
    "        '''dunder '''\n",
    "        return \"Employee('{}','{}','{}')\".format(self.first, self.last, self.pay)\n",
    "    \n",
    "    def __str__(self):\n",
    "        return \"{} - {}\".format(self.full_name(), self.email)\n",
    "    \n",
    "    def __add__(self, other):\n",
    "        return self.pay + other.pay"
   ]
  },
  {
   "cell_type": "code",
   "execution_count": 64,
   "metadata": {},
   "outputs": [],
   "source": [
    "dev1 = EmployeeTwo(\"chris\", \"alousius\", 70000)\n",
    "dev2 = EmployeeTwo(\"chrisyon\", \"dmello\", 90000)"
   ]
  },
  {
   "cell_type": "code",
   "execution_count": 48,
   "metadata": {},
   "outputs": [
    {
     "data": {
      "text/plain": [
       "'<__main__.EmployeeTwo object at 0x000001FFE6CE32E8>'"
      ]
     },
     "execution_count": 48,
     "metadata": {},
     "output_type": "execute_result"
    }
   ],
   "source": [
    "repr(dev1)\n"
   ]
  },
  {
   "cell_type": "code",
   "execution_count": 49,
   "metadata": {},
   "outputs": [
    {
     "data": {
      "text/plain": [
       "'<__main__.EmployeeTwo object at 0x000001FFE6CE32E8>'"
      ]
     },
     "execution_count": 49,
     "metadata": {},
     "output_type": "execute_result"
    }
   ],
   "source": [
    "str(dev1)"
   ]
  },
  {
   "cell_type": "code",
   "execution_count": 70,
   "metadata": {},
   "outputs": [
    {
     "name": "stdout",
     "output_type": "stream",
     "text": [
      "chris alousius - chris.alousius@gmail.com\n"
     ]
    }
   ],
   "source": [
    "dev1 = EmployeeTwo(\"chris\", \"alousius\", 70000)\n",
    "#we are renaming the __repr__ method to replace the \n",
    "print(dev1)"
   ]
  },
  {
   "cell_type": "code",
   "execution_count": 73,
   "metadata": {},
   "outputs": [
    {
     "name": "stdout",
     "output_type": "stream",
     "text": [
      "160000\n",
      "160000\n"
     ]
    }
   ],
   "source": [
    "dev1 = EmployeeTwo(\"chris\", \"alousius\", 70000)\n",
    "dev2 = EmployeeTwo(\"chrisyon\", \"dmello\", 90000)\n",
    "# A dunder add method has been defined by me to add these \n",
    "\n",
    "print(dev1 + dev2)\n",
    "print(dev1.pay + dev2.pay)"
   ]
  },
  {
   "cell_type": "markdown",
   "metadata": {},
   "source": [
    "[Python $ DUNDER $ method docs](https://docs.python.org/3/reference/datamodel.html#special-method-names)"
   ]
  },
  {
   "cell_type": "markdown",
   "metadata": {},
   "source": [
    "## 106 $$ Property Decorators - Getters, Setters, and Deleters $$"
   ]
  },
  {
   "cell_type": "markdown",
   "metadata": {},
   "source": [
    "[Link to the vidoe](https://www.youtube.com/watch?v=jCzT9XFZ5bw)"
   ]
  },
  {
   "cell_type": "code",
   "execution_count": 74,
   "metadata": {},
   "outputs": [],
   "source": [
    "class EmployeeTwo:\n",
    "    '''Hi\n",
    "    Change the docs here @ doc string\n",
    "    '''\n",
    "    \n",
    "    raise_amount = 1.04\n",
    "    no_of_emps   = 0 \n",
    "    #this is a class variable\n",
    "    def __init__ (self, first, last, pay):\n",
    "        self.first = first\n",
    "        self.last  = last\n",
    "        self.pay   = pay\n",
    "        self.email = first +\".\"+ last + \"@gmail.com\"\n",
    "        EmployeeTwo.no_of_emps += 1  #Each time a new instance is created __init__ method is called, so this increases the count. \n",
    "    \n",
    "#what if i wanted full name \n",
    "    def full_name(self):\n",
    "        ''' \n",
    "        full_name is a method and not a attribue \n",
    "        '''\n",
    "        return( \"{} {}\" .format(self.first, self.last))"
   ]
  },
  {
   "cell_type": "code",
   "execution_count": 76,
   "metadata": {},
   "outputs": [
    {
     "data": {
      "text/plain": [
       "'chris.alousius@gmail.com'"
      ]
     },
     "execution_count": 76,
     "metadata": {},
     "output_type": "execute_result"
    }
   ],
   "source": [
    "dev1 = EmployeeTwo(\"chris\", \"alousius\", 70000)\n",
    "\n",
    "dev1.email"
   ]
  },
  {
   "cell_type": "code",
   "execution_count": 77,
   "metadata": {},
   "outputs": [
    {
     "name": "stdout",
     "output_type": "stream",
     "text": [
      "alex\n",
      "chris.alousius@gmail.com\n",
      "alex alousius\n"
     ]
    }
   ],
   "source": [
    "dev1.first = \"alex\"\n",
    "\n",
    "print(dev1.first)\n",
    "print(dev1.email)\n",
    "print(dev1.full_name())\n",
    "#We can see that, the email is not changed to the current FIRST name."
   ]
  },
  {
   "cell_type": "code",
   "execution_count": 91,
   "metadata": {},
   "outputs": [],
   "source": [
    "class EmployeeTwo:\n",
    "    '''Hi\n",
    "    Change the docs here @ doc string\n",
    "    '''\n",
    "    \n",
    "    raise_amount = 1.04\n",
    "    no_of_emps   = 0 \n",
    "    #this is a class variable\n",
    "    def __init__ (self, first, last, pay):\n",
    "        self.first = first\n",
    "        self.last  = last\n",
    "        self.pay   = pay\n",
    "        EmployeeTwo.no_of_emps += 1  #Each time a new instance is created __init__ method is called, so this increases the count. \n",
    "    \n",
    "#what if i wanted full name \n",
    "    def full_name(self):\n",
    "        ''' \n",
    "        full_name is a method and not a attribue \n",
    "        '''\n",
    "        return( \"{} {}\" .format(self.first, self.last))\n",
    "    \n",
    "    #one way to solve is to create a email method \n",
    "    def email(self):\n",
    "        return \"{}.{}@gmail.com\".format(self.first, self.last)"
   ]
  },
  {
   "cell_type": "code",
   "execution_count": 96,
   "metadata": {},
   "outputs": [
    {
     "name": "stdout",
     "output_type": "stream",
     "text": [
      "chris.alousius@gmail.com\n",
      "alex\n",
      "alex.alousius@gmail.com\n",
      "alex alousius\n"
     ]
    }
   ],
   "source": [
    "dev1 = EmployeeTwo(\"chris\", \"alousius\", 70000)\n",
    "print(dev1.email())\n",
    "\n",
    "dev1.first = \"alex\"\n",
    "\n",
    "print(dev1.first)\n",
    "\n",
    "print(dev1.email())\n",
    "\n",
    "print(dev1.full_name())"
   ]
  },
  {
   "cell_type": "code",
   "execution_count": 104,
   "metadata": {},
   "outputs": [],
   "source": [
    "class EmployeeTwo:\n",
    "    '''Hi\n",
    "    Change the docs here @ doc string\n",
    "    '''\n",
    "    \n",
    "    raise_amount = 1.04\n",
    "    no_of_emps   = 0 \n",
    "    #this is a class variable\n",
    "    def __init__ (self, first, last, pay):\n",
    "        self.first = first\n",
    "        self.last  = last\n",
    "        self.pay   = pay\n",
    "        EmployeeTwo.no_of_emps += 1  #Each time a new instance is created __init__ method is called, so this increases the count. \n",
    "    \n",
    "#what if i wanted full name \n",
    "    @property\n",
    "    def full_name(self):\n",
    "        ''' \n",
    "        full_name is a method and not a attribue \n",
    "        '''\n",
    "        return( \"{} {}\" .format(self.first, self.last))\n",
    "    \n",
    "    #A property decorator will alllow to access a method as a attibute\n",
    "    #This is usefull when the class has dependencies\n",
    "    #property decorator\n",
    "    @property\n",
    "    def email(self):\n",
    "        return \"{}.{}@gmail.com\".format(self.first, self.last)"
   ]
  },
  {
   "cell_type": "code",
   "execution_count": 101,
   "metadata": {},
   "outputs": [
    {
     "name": "stdout",
     "output_type": "stream",
     "text": [
      "chris.alousius@gmail.com\n",
      "alex\n",
      "alex.alousius@gmail.com\n",
      "alex alousius\n"
     ]
    }
   ],
   "source": [
    "dev1 = EmployeeTwo(\"chris\", \"alousius\", 70000)\n",
    "print(dev1.email)\n",
    "\n",
    "dev1.first = \"alex\"\n",
    "\n",
    "print(dev1.first)\n",
    "\n",
    "print(dev1.email)\n",
    "\n",
    "print(dev1.full_name())"
   ]
  },
  {
   "cell_type": "code",
   "execution_count": 106,
   "metadata": {},
   "outputs": [
    {
     "ename": "AttributeError",
     "evalue": "can't set attribute",
     "output_type": "error",
     "traceback": [
      "\u001b[1;31m---------------------------------------------------------------------------\u001b[0m",
      "\u001b[1;31mAttributeError\u001b[0m                            Traceback (most recent call last)",
      "\u001b[1;32m<ipython-input-106-2a07855752dc>\u001b[0m in \u001b[0;36m<module>\u001b[1;34m()\u001b[0m\n\u001b[0;32m      3\u001b[0m \u001b[1;33m\u001b[0m\u001b[0m\n\u001b[0;32m      4\u001b[0m \u001b[1;33m\u001b[0m\u001b[0m\n\u001b[1;32m----> 5\u001b[1;33m \u001b[0mdev1\u001b[0m\u001b[1;33m.\u001b[0m\u001b[0mfull_name\u001b[0m \u001b[1;33m=\u001b[0m \u001b[1;34m\"Chris dmello\"\u001b[0m\u001b[1;33m\u001b[0m\u001b[0m\n\u001b[0m\u001b[0;32m      6\u001b[0m \u001b[1;33m\u001b[0m\u001b[0m\n\u001b[0;32m      7\u001b[0m \u001b[0mprint\u001b[0m\u001b[1;33m(\u001b[0m\u001b[0mdev1\u001b[0m\u001b[1;33m.\u001b[0m\u001b[0mfirst\u001b[0m\u001b[1;33m)\u001b[0m\u001b[1;33m\u001b[0m\u001b[0m\n",
      "\u001b[1;31mAttributeError\u001b[0m: can't set attribute"
     ]
    }
   ],
   "source": [
    "# What is i give the fullname and want to change the first and last name accordingly. \n",
    "\n",
    "dev1 = EmployeeTwo(\"chris\", \"alousius\", 70000)\n",
    "\n",
    "dev1.full_name = \"Chris dmello\"\n",
    "\n",
    "print(dev1.first)\n",
    "print(dev1.last)\n",
    "print(dev1.full_name)\n",
    "\n",
    "#Error\n",
    "#AttributeError: can't set attribute"
   ]
  },
  {
   "cell_type": "code",
   "execution_count": 112,
   "metadata": {},
   "outputs": [],
   "source": [
    "##setter \n",
    "class EmployeeTwo:\n",
    "    '''Hi\n",
    "    Change the docs here @ doc string\n",
    "    '''\n",
    "    \n",
    "    raise_amount = 1.04\n",
    "    no_of_emps   = 0 \n",
    "    #this is a class variable\n",
    "    def __init__ (self, first, last, pay):\n",
    "        self.first = first\n",
    "        self.last  = last\n",
    "        self.pay   = pay\n",
    "        EmployeeTwo.no_of_emps += 1  #Each time a new instance is created __init__ method is called, so this increases the count. \n",
    "    \n",
    "#what if i wanted full name \n",
    "    @property\n",
    "    def full_name(self):\n",
    "        ''' \n",
    "        full_name is a method and not a attribue \n",
    "        '''\n",
    "        return( \"{} {}\" .format(self.first, self.last))\n",
    "    \n",
    "    #A property decorator will alllow to access a method as a attibute\n",
    "    #This is usefull when the class has dependencies\n",
    "    #property decorator\n",
    "    @property\n",
    "    def email(self):\n",
    "        return \"{}.{}@gmail.com\".format(self.first, self.last)\n",
    "    \n",
    "    @full_name.setter\n",
    "    def full_name(self, name):\n",
    "        first, last = name.split(\" \")\n",
    "        self.first = first\n",
    "        self.last  = last\n",
    "        \n",
    "    @full_name.deleter\n",
    "    def full_name(self):\n",
    "        print(\"Deleted Name\")\n",
    "        self.first = None\n",
    "        self.last  = None"
   ]
  },
  {
   "cell_type": "code",
   "execution_count": 109,
   "metadata": {},
   "outputs": [
    {
     "name": "stdout",
     "output_type": "stream",
     "text": [
      "chris\n",
      "alousius\n",
      "Chris\n",
      "dmello\n",
      "Chris dmello\n"
     ]
    }
   ],
   "source": [
    "dev1 = EmployeeTwo(\"chris\", \"alousius\", 70000)\n",
    "print(dev1.first)\n",
    "print(dev1.last)\n",
    "\n",
    "dev1.full_name = \"Chris dmello\"\n",
    "\n",
    "print(dev1.first)\n",
    "print(dev1.last)\n",
    "print(dev1.full_name)"
   ]
  },
  {
   "cell_type": "code",
   "execution_count": 114,
   "metadata": {},
   "outputs": [
    {
     "name": "stdout",
     "output_type": "stream",
     "text": [
      "Deleted Name\n",
      "None\n"
     ]
    }
   ],
   "source": [
    "dev1 = EmployeeTwo(\"chris\", \"alousius\", 70000)\n",
    "\n",
    "del dev1.full_name\n",
    "\n",
    "print(dev1.first)"
   ]
  },
  {
   "cell_type": "markdown",
   "metadata": {},
   "source": [
    "## 107 $$ Optional Arguments in Python With *args and **kwargs $$"
   ]
  },
  {
   "cell_type": "markdown",
   "metadata": {},
   "source": [
    "1. args - arguements.\n",
    "2. kwargs -  keyword arguemnts. <br>\n",
    "[Tutorial video](https://www.youtube.com/watch?v=WcTXxX3vYgY)"
   ]
  },
  {
   "cell_type": "code",
   "execution_count": 121,
   "metadata": {},
   "outputs": [],
   "source": [
    "def foo(required, *args, **kwargs):\n",
    "    \n",
    "    print(required)\n",
    "    \n",
    "    if (args):\n",
    "        print(args)\n",
    "        \n",
    "    if (kwargs):\n",
    "        print(kwargs)"
   ]
  },
  {
   "cell_type": "code",
   "execution_count": 122,
   "metadata": {},
   "outputs": [
    {
     "ename": "TypeError",
     "evalue": "foo() missing 1 required positional argument: 'required'",
     "output_type": "error",
     "traceback": [
      "\u001b[1;31m---------------------------------------------------------------------------\u001b[0m",
      "\u001b[1;31mTypeError\u001b[0m                                 Traceback (most recent call last)",
      "\u001b[1;32m<ipython-input-122-c19b6d9633cf>\u001b[0m in \u001b[0;36m<module>\u001b[1;34m()\u001b[0m\n\u001b[1;32m----> 1\u001b[1;33m \u001b[0mfoo\u001b[0m\u001b[1;33m(\u001b[0m\u001b[1;33m)\u001b[0m\u001b[1;33m\u001b[0m\u001b[0m\n\u001b[0m",
      "\u001b[1;31mTypeError\u001b[0m: foo() missing 1 required positional argument: 'required'"
     ]
    }
   ],
   "source": [
    "foo()"
   ]
  },
  {
   "cell_type": "code",
   "execution_count": 123,
   "metadata": {},
   "outputs": [
    {
     "name": "stdout",
     "output_type": "stream",
     "text": [
      "print required\n"
     ]
    }
   ],
   "source": [
    "foo(\"print required\")"
   ]
  },
  {
   "cell_type": "code",
   "execution_count": 124,
   "metadata": {},
   "outputs": [
    {
     "name": "stdout",
     "output_type": "stream",
     "text": [
      "Print Required\n",
      "(1, 2, 3, 4)\n"
     ]
    }
   ],
   "source": [
    "foo(\"Print Required\",1,2,3,4)"
   ]
  },
  {
   "cell_type": "code",
   "execution_count": 125,
   "metadata": {},
   "outputs": [
    {
     "name": "stdout",
     "output_type": "stream",
     "text": [
      "Print Required\n",
      "(1, 2, 3, 4)\n",
      "{'key1': 'hi', 'key2': 'double hi'}\n"
     ]
    }
   ],
   "source": [
    "foo(\"Print Required\",1,2,3,4, key1 = \"hi\", key2 = \"double hi\")"
   ]
  }
 ],
 "metadata": {
  "kernelspec": {
   "display_name": "Python 3",
   "language": "python",
   "name": "python3"
  },
  "language_info": {
   "codemirror_mode": {
    "name": "ipython",
    "version": 3
   },
   "file_extension": ".py",
   "mimetype": "text/x-python",
   "name": "python",
   "nbconvert_exporter": "python",
   "pygments_lexer": "ipython3",
   "version": "3.6.4"
  }
 },
 "nbformat": 4,
 "nbformat_minor": 2
}
