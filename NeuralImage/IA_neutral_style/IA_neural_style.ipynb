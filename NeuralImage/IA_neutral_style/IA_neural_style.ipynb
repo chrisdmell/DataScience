{
 "cells": [
  {
   "cell_type": "markdown",
   "metadata": {},
   "source": [
    "### IA Neural Style Transfer "
   ]
  },
  {
   "cell_type": "markdown",
   "metadata": {},
   "source": [
    "Implementation Credits: https://github.com/anishathalye/neural-style"
   ]
  },
  {
   "cell_type": "markdown",
   "metadata": {},
   "source": [
    "You will have to install the following Dependensies\n",
    "    - Tensorflow\n",
    "    - Numpy\n",
    "    - Pillow (PIL)\n",
    "    - tqdm"
   ]
  },
  {
   "cell_type": "markdown",
   "metadata": {},
   "source": [
    "### Download VGG model from impact share and place it in the Dir"
   ]
  },
  {
   "cell_type": "markdown",
   "metadata": {},
   "source": [
    "The **imagenet-vgg-verydeep-19.mat** file is placed in impact_shares --> ia-neural-net folder\n",
    "\n",
    "- Copy it in the working directory"
   ]
  },
  {
   "cell_type": "code",
   "execution_count": 1,
   "metadata": {},
   "outputs": [
    {
     "name": "stdout",
     "output_type": "stream",
     "text": [
      "Downloading files...\n"
     ]
    },
    {
     "name": "stderr",
     "output_type": "stream",
     "text": [
      "'wget' is not recognized as an internal or external command,\n",
      "operable program or batch file.\n",
      "'wget' is not recognized as an internal or external command,\n",
      "operable program or batch file.\n"
     ]
    },
    {
     "name": "stdout",
     "output_type": "stream",
     "text": [
      "Download finished\n",
      "Error: Copy the model file from Impact Share to proceed\n"
     ]
    },
    {
     "name": "stderr",
     "output_type": "stream",
     "text": [
      "'wget' is not recognized as an internal or external command,\n",
      "operable program or batch file.\n"
     ]
    }
   ],
   "source": [
    "import os\n",
    "\n",
    "if 'stylize.py' not in os.listdir(os.curdir):\n",
    "    print (\"Downloading files...\")\n",
    "    for file in ['neural_style.py', 'stylize.py', 'vgg.py']:\n",
    "        !wget https://s3.us-east-2.amazonaws.com/staples-chatbot/IA-neural-style/{file} -q\n",
    "    print (\"Download finished\")\n",
    "\n",
    "# if 'imagenet-vgg-verydeep-19.mat' not in os.listdir(os.curdir):\n",
    "#     print (\"Error: Copy the model file from Impact Share to proceed\")"
   ]
  },
  {
   "cell_type": "code",
   "execution_count": null,
   "metadata": {},
   "outputs": [],
   "source": [
    "def parse_args(input, style, iterations, preserve_color):\n",
    "    args = \"--output generated_image.jpg\"\n",
    "    args += \" --content %s\" %input\n",
    "    args += \" --styles %s\" %style\n",
    "    args += \" --iterations %s\" %iterations\n",
    "    args += \" --network imagenet-vgg-verydeep-19.mat\"\n",
    "    args += \" --overwrite\"\n",
    "    if preserve_color:\n",
    "        args += \" --preserve-colors\"\n",
    "    \n",
    "    return args"
   ]
  },
  {
   "cell_type": "markdown",
   "metadata": {},
   "source": [
    "### Tune the hyperparams"
   ]
  },
  {
   "cell_type": "code",
   "execution_count": null,
   "metadata": {},
   "outputs": [],
   "source": [
    "# Content Image\n",
    "input_image_path = \"path/to/content/image\"\n",
    "\n",
    "# Style Image(s), you can have multiple image paths (space separated)\n",
    "style_image_path = \"path/to/style/image\"\n",
    "\n",
    "# Number of Iterations\n",
    "iterations = 1000 \n",
    "\n",
    "# Preserve_content_image_color  -- Boolean\n",
    "preserve_color = False\n",
    "\n",
    "args = parse_args(input_image_path, style_image_path, iterations, preserve_color)"
   ]
  },
  {
   "cell_type": "markdown",
   "metadata": {},
   "source": [
    "#### Generate new style"
   ]
  },
  {
   "cell_type": "code",
   "execution_count": null,
   "metadata": {},
   "outputs": [],
   "source": [
    "!python neural_style.py {args}"
   ]
  },
  {
   "cell_type": "markdown",
   "metadata": {},
   "source": [
    "#### Want to get more control over the generated image --> Go through the github link above"
   ]
  },
  {
   "cell_type": "code",
   "execution_count": null,
   "metadata": {},
   "outputs": [],
   "source": []
  }
 ],
 "metadata": {
  "kernelspec": {
   "display_name": "Python 2",
   "language": "python",
   "name": "python2"
  },
  "language_info": {
   "codemirror_mode": {
    "name": "ipython",
    "version": 2
   },
   "file_extension": ".py",
   "mimetype": "text/x-python",
   "name": "python",
   "nbconvert_exporter": "python",
   "pygments_lexer": "ipython2",
   "version": "2.7.14"
  }
 },
 "nbformat": 4,
 "nbformat_minor": 2
}
