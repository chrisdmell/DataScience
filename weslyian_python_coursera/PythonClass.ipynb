{
 "cells": [
  {
   "cell_type": "code",
   "execution_count": 5,
   "metadata": {},
   "outputs": [],
   "source": [
    "class Employee:\n",
    "    \n",
    "    def __init__ (self, first, last, email, pay):\n",
    "        self.first = first\n",
    "        self.last  = last\n",
    "        self.email = email\n",
    "        self.pay   = pay\n",
    "        \n",
    "    def full_name (self):\n",
    "        return '{} {}'.format(self.first, self.last)"
   ]
  },
  {
   "cell_type": "code",
   "execution_count": 7,
   "metadata": {},
   "outputs": [],
   "source": [
    "emp_1 = Employee(\"Chris\", \"Dmello\", \"chrisxpark@gmail.com\", \"3432232\")"
   ]
  },
  {
   "cell_type": "code",
   "execution_count": 10,
   "metadata": {},
   "outputs": [
    {
     "data": {
      "text/plain": [
       "'Chris Dmelo'"
      ]
     },
     "execution_count": 10,
     "metadata": {},
     "output_type": "execute_result"
    }
   ],
   "source": [
    "emp_1.full_name()"
   ]
  },
  {
   "cell_type": "code",
   "execution_count": 7,
   "metadata": {},
   "outputs": [
    {
     "name": "stdout",
     "output_type": "stream",
     "text": [
      "<class '__main__.Employee'>\n"
     ]
    }
   ],
   "source": [
    "emp_1 = Employee\n",
    "print(emp_1)\n",
    "emp_2 = Employee"
   ]
  },
  {
   "cell_type": "code",
   "execution_count": 4,
   "metadata": {},
   "outputs": [
    {
     "name": "stdout",
     "output_type": "stream",
     "text": [
      "Chris\n"
     ]
    }
   ],
   "source": [
    "print(emp_1.first)"
   ]
  },
  {
   "cell_type": "code",
   "execution_count": 8,
   "metadata": {},
   "outputs": [],
   "source": [
    "emp_1.first = \"Chris\"\n",
    "emp_1.last  = \"Dmello\"\n",
    "emp_1.email = \"chrisxpark@gmail.com\"\n",
    "emp_1.pay   = 600"
   ]
  },
  {
   "cell_type": "code",
   "execution_count": 9,
   "metadata": {},
   "outputs": [],
   "source": [
    "emp_2.first = \"Chrisx\"\n",
    "emp_2.last  = \"Dmellox\"\n",
    "emp_2.email = \"chrisxparkx@gmail.com\"\n",
    "emp_2.pay   = 6000"
   ]
  },
  {
   "cell_type": "code",
   "execution_count": 11,
   "metadata": {},
   "outputs": [
    {
     "name": "stdout",
     "output_type": "stream",
     "text": [
      "Chrisx\n"
     ]
    }
   ],
   "source": [
    "print(emp_2.first)"
   ]
  }
 ],
 "metadata": {
  "kernelspec": {
   "display_name": "Python 2",
   "language": "python",
   "name": "python2"
  },
  "language_info": {
   "codemirror_mode": {
    "name": "ipython",
    "version": 2
   },
   "file_extension": ".py",
   "mimetype": "text/x-python",
   "name": "python",
   "nbconvert_exporter": "python",
   "pygments_lexer": "ipython2",
   "version": "2.7.14"
  }
 },
 "nbformat": 4,
 "nbformat_minor": 2
}
