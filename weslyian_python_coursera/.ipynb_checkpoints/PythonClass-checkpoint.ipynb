{
 "cells": [
  {
   "cell_type": "code",
   "execution_count": 1,
   "metadata": {},
   "outputs": [],
   "source": [
    "class Employee:\n",
    "    pass"
   ]
  },
  {
   "cell_type": "code",
   "execution_count": 3,
   "metadata": {},
   "outputs": [
    {
     "name": "stdout",
     "output_type": "stream",
     "text": [
      "<class '__main__.Employee'>\n"
     ]
    }
   ],
   "source": [
    "emp_1 = Employee\n",
    "print(emp_1)"
   ]
  },
  {
   "cell_type": "code",
   "execution_count": null,
   "metadata": {},
   "outputs": [],
   "source": [
    "import scrapy\n",
    "\n",
    "\n",
    "class PierOneSpider(scrapy.Spider):\n",
    "    name = 'pier_one'\n",
    "    allowed_domains = ['www.pier1.com']\n",
    "    \n",
    "\n",
    "    def start_requests (self):\n",
    "\t\tstart_urls = ['https://www.pier1.com/duvets?start=0&sz=140&showAll=140#nav=top', \n",
    "\t\t'https://www.pier1.com/quilts?start=0&sz=117&showAll=117#nav=left', \n",
    "\t\t'https://www.pier1.com/comforters?start=0&sz=120&showAll=226#nav=left', \n",
    "\t\t'https://www.pier1.com/bedding-basics#nav=left', \n",
    "\t\t'https://www.pier1.com/bed-sheets?start=0&sz=81&showAll=81#nav=left']\n",
    "        \n",
    "        for urls in start_urls:\n",
    "            yield scrapy.Request(url=urls, callback=self.parse_product_page)\n",
    "\t\t\t\n",
    "\t\n",
    "\tdef parse_product_page (self, response):\n",
    "        print(response)"
   ]
  }
 ],
 "metadata": {
  "kernelspec": {
   "display_name": "Python 3",
   "language": "python",
   "name": "python3"
  },
  "language_info": {
   "codemirror_mode": {
    "name": "ipython",
    "version": 3
   },
   "file_extension": ".py",
   "mimetype": "text/x-python",
   "name": "python",
   "nbconvert_exporter": "python",
   "pygments_lexer": "ipython3",
   "version": "3.6.4"
  }
 },
 "nbformat": 4,
 "nbformat_minor": 2
}
